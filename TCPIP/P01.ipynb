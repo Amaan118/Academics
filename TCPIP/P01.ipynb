{
 "cells": [
  {
   "cell_type": "code",
   "execution_count": 4,
   "id": "7757671f",
   "metadata": {},
   "outputs": [],
   "source": [
    "def binaryToDotted(binary):\n",
    "    if len(binary) < 32:\n",
    "        raise ValueError(\"Invalid Binary Input.\")\n",
    "    elif not all([i==\"0\" or i==\"1\" for i in binary]):\n",
    "        raise ValueError(\"Invalid Binary Input.\")\n",
    "        \n",
    "    \n",
    "    decEqu = \"\"\n",
    "    for i in range(0, len(binary), 8):\n",
    "        decEqu += str(int(binary[i:i+8], 2))\n",
    "        if i != 24:\n",
    "            decEqu += \".\"\n",
    "    \n",
    "    return decEqu"
   ]
  },
  {
   "cell_type": "code",
   "execution_count": 6,
   "id": "9585d465",
   "metadata": {},
   "outputs": [
    {
     "name": "stdout",
     "output_type": "stream",
     "text": [
      "Enter Binary Number : 11010110 11110000 01010101 10101100\n",
      "Equivalent Dotted Decimal is : 214.240.85.172\n"
     ]
    }
   ],
   "source": [
    "binInp = input(\"Enter Binary Number : \").replace(\" \", \"\")\n",
    "dotted = binaryToDotted(binInp)\n",
    "print(f\"Equivalent Dotted Decimal is : {dotted}\")"
   ]
  }
 ],
 "metadata": {
  "kernelspec": {
   "display_name": "Python 3 (ipykernel)",
   "language": "python",
   "name": "python3"
  },
  "language_info": {
   "codemirror_mode": {
    "name": "ipython",
    "version": 3
   },
   "file_extension": ".py",
   "mimetype": "text/x-python",
   "name": "python",
   "nbconvert_exporter": "python",
   "pygments_lexer": "ipython3",
   "version": "3.10.0"
  }
 },
 "nbformat": 4,
 "nbformat_minor": 5
}
