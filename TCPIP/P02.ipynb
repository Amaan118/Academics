{
 "cells": [
  {
   "cell_type": "code",
   "execution_count": 1,
   "id": "78c550fc",
   "metadata": {},
   "outputs": [],
   "source": [
    "def dottedToBinary(dotted):\n",
    "    numArr = dotted.split(\".\")\n",
    "    if len(numArr) != 4:\n",
    "        raise ValueError(\"Invalid Input.\")\n",
    "        \n",
    "    fir, sec, thi, fou = list(map(int, numArr))\n",
    "    binEqu = \"\"\n",
    "    \n",
    "    firBin = bin(fir).replace(\"0b\", \"\")\n",
    "    while len(firBin) != 8:\n",
    "        firBin = \"0\" + firBin\n",
    "        \n",
    "    secBin = bin(sec).replace(\"0b\", \"\")\n",
    "    while len(secBin) != 8:\n",
    "        secBin = \"0\" + secBin\n",
    "        \n",
    "    thiBin = bin(thi).replace(\"0b\", \"\")\n",
    "    while len(thiBin) != 8:\n",
    "        thiBin = \"0\" + thiBin\n",
    "        \n",
    "    fouBin = bin(fou).replace(\"0b\", \"\")\n",
    "    while len(fouBin) != 8:\n",
    "        fouBin = \"0\" + fouBin\n",
    "    \n",
    "    binEqu = firBin + \" \" + secBin + \" \" + thiBin + \" \" + fouBin\n",
    "    \n",
    "    return binEqu"
   ]
  },
  {
   "cell_type": "code",
   "execution_count": null,
   "id": "5be9817e",
   "metadata": {},
   "outputs": [],
   "source": [
    "dottedInp = input(\"Enter Dotted Decimal : \")\n",
    "binEqu = dottedToBinary(dottedInp)\n",
    "print(f\"Binary Equivalent is : {binEqu}\")"
   ]
  }
 ],
 "metadata": {
  "kernelspec": {
   "display_name": "Python 3 (ipykernel)",
   "language": "python",
   "name": "python3"
  },
  "language_info": {
   "codemirror_mode": {
    "name": "ipython",
    "version": 3
   },
   "file_extension": ".py",
   "mimetype": "text/x-python",
   "name": "python",
   "nbconvert_exporter": "python",
   "pygments_lexer": "ipython3",
   "version": "3.10.0"
  }
 },
 "nbformat": 4,
 "nbformat_minor": 5
}
