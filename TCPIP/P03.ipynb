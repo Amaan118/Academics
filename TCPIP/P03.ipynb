{
 "cells": [
  {
   "cell_type": "code",
   "execution_count": 4,
   "id": "eb8d8ccc",
   "metadata": {},
   "outputs": [],
   "source": [
    "def getIpData(dotted):\n",
    "    numArr = dotted.split(\".\")\n",
    "    if len(numArr) != 4:\n",
    "        raise ValueError(\"Invalid Dotted Decimal Input.\")\n",
    "    elif any([int(i)>255 or int(i)<0 for i in numArr]):\n",
    "        raise ValueError(\"Invalid Dotted Decimal Input.\")\n",
    "        \n",
    "    one, two, thr, fou = numArr\n",
    "    ipClass = netId = hostId = netAdd = \"\"\n",
    "    \n",
    "    \n",
    "    if int(one) < 128:\n",
    "        ipClass += \"A\"\n",
    "        netId += one\n",
    "        hostId += two + \".\" + thr + \".\" + fou\n",
    "        netAdd += netId + \".0.0.0\"\n",
    "    elif int(one) < 192:\n",
    "        ipClass += \"B\"\n",
    "        netId += one + \".\" + two\n",
    "        hostId += thr + \".\" + fou\n",
    "        netAdd += netId + \".0.0\"\n",
    "    elif int(one) < 224:\n",
    "        ipClass += \"C\"\n",
    "        netId += one + \".\" + two + \".\" + thr\n",
    "        hostId += fou\n",
    "        netAdd += netId + \".0\"\n",
    "    elif int(one) < 238:\n",
    "        ipClass = \"D\"\n",
    "    else:\n",
    "        ipClass = \"E\"\n",
    "    \n",
    "    \n",
    "    print(f\"\\nClass of Ip Address : {ipClass}\")\n",
    "    if ipClass not in [\"D\", \"E\"]:\n",
    "        "
   ]
  },
  {
   "cell_type": "code",
   "execution_count": 9,
   "id": "8690a89f",
   "metadata": {},
   "outputs": [
    {
     "name": "stdout",
     "output_type": "stream",
     "text": [
      "Enter Ip Address : 235.21.112.240\n",
      "\n",
      "Class of Ip Address : D\n",
      "Net Id of Ip Address : \n",
      "Host Id of Ip Address : \n",
      "Net Address of Ip Address : \n"
     ]
    }
   ],
   "source": [
    "decInp = input(\"Enter Ip Address : \")\n",
    "getIpData(decInp)"
   ]
  }
 ],
 "metadata": {
  "kernelspec": {
   "display_name": "Python 3 (ipykernel)",
   "language": "python",
   "name": "python3"
  },
  "language_info": {
   "codemirror_mode": {
    "name": "ipython",
    "version": 3
   },
   "file_extension": ".py",
   "mimetype": "text/x-python",
   "name": "python",
   "nbconvert_exporter": "python",
   "pygments_lexer": "ipython3",
   "version": "3.10.0"
  }
 },
 "nbformat": 4,
 "nbformat_minor": 5
}
