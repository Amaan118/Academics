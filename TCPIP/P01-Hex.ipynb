{
 "cells": [
  {
   "cell_type": "code",
   "execution_count": 1,
   "id": "852aa739",
   "metadata": {},
   "outputs": [],
   "source": [
    "def binToHex(binary):\n",
    "    hexEqu = \"\"\n",
    "    \n",
    "    if len(binary) != 32:\n",
    "        raise ValueError(\"Invalid Binary Input.\")\n",
    "    elif any([int(i) > 1 or int(i) < 0 for i in binary]):\n",
    "        raise ValueError(\"Invalid Binary Input.\")\n",
    "    \n",
    "    k = 0\n",
    "    for i in range(0, len(binary), 4):\n",
    "        k += 1\n",
    "        hexEqu += hex(int(binary[i:i+4], 2)).replace(\"0x\", \"\")\n",
    "        if k%2 == 0 and i != 28:\n",
    "            hexEqu += \".\"\n",
    "    \n",
    "    return hexEqu"
   ]
  },
  {
   "cell_type": "code",
   "execution_count": 3,
   "id": "2aa703f5",
   "metadata": {},
   "outputs": [
    {
     "name": "stdout",
     "output_type": "stream",
     "text": [
      "Enter Binary Input : 1111 1111 0010 0110 1101 0010 1110 0001\n",
      "Hexadecimal Equivalent is : ff.26.d2.e1\n"
     ]
    }
   ],
   "source": [
    "binInp = input(\"Enter Binary Input : \").replace(\" \", \"\")\n",
    "hexEqu = binToHex(binInp)\n",
    "print(f\"Hexadecimal Equivalent is : {hexEqu}\")"
   ]
  }
 ],
 "metadata": {
  "kernelspec": {
   "display_name": "Python 3 (ipykernel)",
   "language": "python",
   "name": "python3"
  },
  "language_info": {
   "codemirror_mode": {
    "name": "ipython",
    "version": 3
   },
   "file_extension": ".py",
   "mimetype": "text/x-python",
   "name": "python",
   "nbconvert_exporter": "python",
   "pygments_lexer": "ipython3",
   "version": "3.10.0"
  }
 },
 "nbformat": 4,
 "nbformat_minor": 5
}
