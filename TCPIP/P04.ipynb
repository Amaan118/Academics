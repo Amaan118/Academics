{
 "cells": [
  {
   "cell_type": "code",
   "execution_count": 1,
   "id": "770d6c9c",
   "metadata": {
    "scrolled": true
   },
   "outputs": [],
   "source": [
    "import math\n",
    "def getClassOfIp(ipAdd):\n",
    "    if int(ipAdd) < 128:\n",
    "        return 24\n",
    "    elif int(ipAdd) < 192:\n",
    "        return 16\n",
    "    elif int(ipAdd) < 224:\n",
    "        return 8\n",
    "    else:\n",
    "        raise ValueError(\"Invalid Ip Address.\")"
   ]
  },
  {
   "cell_type": "code",
   "execution_count": 2,
   "id": "1ecfb41f",
   "metadata": {},
   "outputs": [],
   "source": [
    "def getIpAddressOfSubnets(ipAdd, subnets):\n",
    "    value = getClassOfIp(ipAdd.split(\".\")[0])\n",
    "    return value - int(math.log2(subnets))"
   ]
  },
  {
   "cell_type": "code",
   "execution_count": 3,
   "id": "cc1d2744",
   "metadata": {},
   "outputs": [],
   "source": [
    "def getSubnetMask(ipAdd, subnets):\n",
    "    possibleSubs = getIpAddressOfSubnets(ipAdd, subnets)\n",
    "    \n",
    "    return \"1\"*(32-possibleSubs)+\"0\"*possibleSubs, possibleSubs"
   ]
  },
  {
   "cell_type": "code",
   "execution_count": 4,
   "id": "1dda92c9",
   "metadata": {},
   "outputs": [],
   "source": [
    "def beutifySubnet(subnet):\n",
    "    subnetMask = \"\"\n",
    "    for i in range(0, len(subnet), 8):\n",
    "        subnetMask += str(int(subnet[i:i+8], 2))\n",
    "        if i != 24:\n",
    "            subnetMask += \".\"\n",
    "    \n",
    "    return subnetMask"
   ]
  },
  {
   "cell_type": "code",
   "execution_count": 5,
   "id": "e8531660",
   "metadata": {},
   "outputs": [
    {
     "name": "stdout",
     "output_type": "stream",
     "text": [
      "Enter Ip Address : 150.40.0.0\n",
      "Enter Number of Subnets : 1024\n",
      "\n",
      "Number of Addresses in Subnet :  64\n",
      "Subnet Mask :  255.255.255.192\n"
     ]
    }
   ],
   "source": [
    "ipAdd = input(\"Enter Ip Address : \").replace(\" \", \"\")\n",
    "subnets = int(input(\"Enter Number of Subnets : \"))\n",
    "\n",
    "\n",
    "subnetMask, subnetAdd = getSubnetMask(ipAdd, subnets)\n",
    "subnetMask = beutifySubnet(subnetMask)\n",
    "print(\"\\nNumber of Addresses in Subnet : \", pow(2, subnetAdd))\n",
    "print(\"Subnet Mask : \", subnetMask)"
   ]
  }
 ],
 "metadata": {
  "kernelspec": {
   "display_name": "Python 3 (ipykernel)",
   "language": "python",
   "name": "python3"
  },
  "language_info": {
   "codemirror_mode": {
    "name": "ipython",
    "version": 3
   },
   "file_extension": ".py",
   "mimetype": "text/x-python",
   "name": "python",
   "nbconvert_exporter": "python",
   "pygments_lexer": "ipython3",
   "version": "3.10.0"
  }
 },
 "nbformat": 4,
 "nbformat_minor": 5
}
