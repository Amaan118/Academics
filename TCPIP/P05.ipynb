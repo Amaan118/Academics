{
 "cells": [
  {
   "cell_type": "code",
   "execution_count": 1,
   "id": "99bdd7e6",
   "metadata": {},
   "outputs": [],
   "source": [
    "def classLessIp(ipAdd, netPre):\n",
    "    binIp = getBinaryOfAddress(ipAdd)\n",
    "    lowerAdd = upperAdd = binIp[:netPre]\n",
    "    for i in range(32-netPre):\n",
    "        lowerAdd += \"0\"\n",
    "        upperAdd += \"1\"\n",
    "    \n",
    "    lowerIpAdd = getDecimalIp(lowerAdd)\n",
    "    upperIpAdd = getDecimalIp(upperAdd)\n",
    "    \n",
    "    return lowerIpAdd, upperIpAdd"
   ]
  },
  {
   "cell_type": "code",
   "execution_count": 2,
   "id": "0d9d665c",
   "metadata": {},
   "outputs": [],
   "source": [
    "def getBinaryOfAddress(ipAdd):\n",
    "    if len(ipAdd.split(\".\")) != 4:\n",
    "        raise ValueError(\"Invalid Ip Address\")\n",
    "    \n",
    "    decimals = list(map(int, ipAdd.split(\".\")))\n",
    "    binInp = \"\"\n",
    "    for dec in decimals:\n",
    "        binEqu = bin(dec).replace(\"0b\", \"\")\n",
    "        while len(binEqu) != 8:\n",
    "            binEqu = \"0\" + binEqu\n",
    "        \n",
    "        binInp += binEqu\n",
    "    \n",
    "    return binInp"
   ]
  },
  {
   "cell_type": "code",
   "execution_count": 3,
   "id": "857a17fc",
   "metadata": {},
   "outputs": [],
   "source": [
    "def getDecimalIp(binIp):\n",
    "    decIp = \"\"\n",
    "    for i in range(0, 32, 8):\n",
    "        decIp += str(int(binIp[i:i+8], 2))\n",
    "        if i != 24:\n",
    "            decIp += \".\"\n",
    "    \n",
    "    return decIp"
   ]
  },
  {
   "cell_type": "code",
   "execution_count": 7,
   "id": "ef076f96",
   "metadata": {},
   "outputs": [
    {
     "name": "stdout",
     "output_type": "stream",
     "text": [
      "Enter Ip Address : 201.1.4.32\n",
      "Enter Net Prefix : 29\n",
      "\n",
      "Lower Bound Ip Address : 201.1.4.32\n",
      "Upper Bound Ip Address : 201.1.4.39\n"
     ]
    }
   ],
   "source": [
    "ipAdd = input(\"Enter Ip Address : \")\n",
    "netPre = input(\"Enter Net Prefix : \")\n",
    "\n",
    "lowerIpAdd, upperIpAdd = classLessIp(ipAdd, int(netPre))\n",
    "print(f\"\\nLower Bound Ip Address : {lowerIpAdd}\")\n",
    "print(f\"Upper Bound Ip Address : {upperIpAdd}\")"
   ]
  }
 ],
 "metadata": {
  "kernelspec": {
   "display_name": "Python 3 (ipykernel)",
   "language": "python",
   "name": "python3"
  },
  "language_info": {
   "codemirror_mode": {
    "name": "ipython",
    "version": 3
   },
   "file_extension": ".py",
   "mimetype": "text/x-python",
   "name": "python",
   "nbconvert_exporter": "python",
   "pygments_lexer": "ipython3",
   "version": "3.10.0"
  }
 },
 "nbformat": 4,
 "nbformat_minor": 5
}
