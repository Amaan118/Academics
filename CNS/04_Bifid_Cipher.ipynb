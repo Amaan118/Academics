{
 "cells": [
  {
   "cell_type": "code",
   "execution_count": 1,
   "id": "53d65d0b",
   "metadata": {},
   "outputs": [],
   "source": [
    "def constructMatrix(key):\n",
    "    seenChars = dict()\n",
    "\n",
    "    matrix = list()\n",
    "    row = list()\n",
    "    for word in key:\n",
    "        if len(row) == 5:\n",
    "            matrix.append(row)\n",
    "            row = list()\n",
    "\n",
    "        if word not in seenChars:\n",
    "            row.append(word)\n",
    "        seenChars[word] = 1\n",
    "\n",
    "    for char in range(97, 123):\n",
    "        if chr(char) == \"j\":\n",
    "            continue\n",
    "        elif len(row) == 5:\n",
    "            matrix.append(row)\n",
    "            row = list()\n",
    "\n",
    "        if chr(char) not in seenChars:\n",
    "            row.append(chr(char))\n",
    "        seenChars[word] = 1\n",
    "\n",
    "    if len(row) == 5:\n",
    "        matrix.append(row)\n",
    "    return matrix"
   ]
  },
  {
   "cell_type": "code",
   "execution_count": 2,
   "id": "5d55c701",
   "metadata": {},
   "outputs": [],
   "source": [
    "def getIndex(matrix, char):\n",
    "    for i in range(5):\n",
    "        for j in range(5):\n",
    "            if matrix[i][j] == char:\n",
    "                return i, j"
   ]
  },
  {
   "cell_type": "code",
   "execution_count": 3,
   "id": "7169e798",
   "metadata": {},
   "outputs": [],
   "source": [
    "def bifidEncrypt(plainText, matrix):\n",
    "    rowEqu = colEqu = \"\"\n",
    "\n",
    "    for char in plainText:\n",
    "        row, col = getIndex(matrix, char)\n",
    "        rowEqu += str(row)\n",
    "        colEqu += str(col)\n",
    "\n",
    "    encryptInd = \"\"\n",
    "\n",
    "    for i in range(0, len(rowEqu), 5):\n",
    "        encryptInd += rowEqu[i:min(len(rowEqu), i+5)]\n",
    "        encryptInd += colEqu[i:min(len(rowEqu), i+5)]\n",
    "\n",
    "    encryptedStr = \"\"\n",
    "    for j in range(0, len(encryptInd), 2):\n",
    "        row, col = int(encryptInd[j]), int(encryptInd[j+1])\n",
    "        encryptedStr += matrix[row][col]\n",
    "\n",
    "    return encryptedStr"
   ]
  },
  {
   "cell_type": "code",
   "execution_count": 4,
   "id": "57f9cd71",
   "metadata": {},
   "outputs": [],
   "source": [
    "def bifidDecrypt(encStr, matrix):\n",
    "    rowEqu = colEqu = \"\"\n",
    "    indEqu = \"\"\n",
    "    indMat = list()\n",
    "    decStr = \"\"\n",
    "\n",
    "    for char in encStr:\n",
    "        row, col = getIndex(matrix, char)\n",
    "        indEqu += str(row) + str(col)\n",
    "\n",
    "    for i in range(0, len(indEqu), 10):\n",
    "        indMat.append(indEqu[i:min(i+10, len(indEqu))])\n",
    "\n",
    "    for ind in indMat:\n",
    "        rowEqu += ind[:len(ind)//2]\n",
    "        colEqu += ind[len(ind)//2:]\n",
    "\n",
    "    for ind in range(len(rowEqu)):\n",
    "        decStr += matrix[int(rowEqu[ind])][int(colEqu[ind])]\n",
    "\n",
    "    return decStr"
   ]
  },
  {
   "cell_type": "code",
   "execution_count": 9,
   "id": "9cea95e8",
   "metadata": {
    "scrolled": true
   },
   "outputs": [
    {
     "name": "stdout",
     "output_type": "stream",
     "text": [
      "Enter Plain Text : This is Cryptography\n",
      "Enter Key : encryptIt\n",
      "\n",
      "Encrypted Cipher is : iatowlebhuadtgqies\n",
      "Decrypted Cipher is : thisiscryptography\n"
     ]
    }
   ],
   "source": [
    "plainText = input(\"Enter Plain Text : \").lower().replace(\" \", \"\")\n",
    "key = input(\"Enter Key : \").lower()\n",
    "\n",
    "matrix = constructMatrix(key)\n",
    "\n",
    "encryptedStr = bifidEncrypt(plainText, matrix)\n",
    "print(f\"\\nEncrypted Cipher is : {encryptedStr}\")\n",
    "\n",
    "decrypt = bifidDecrypt(encryptedStr, matrix)\n",
    "print(f\"Decrypted Cipher is : {decrypt}\")"
   ]
  }
 ],
 "metadata": {
  "kernelspec": {
   "display_name": "Python 3 (ipykernel)",
   "language": "python",
   "name": "python3"
  },
  "language_info": {
   "codemirror_mode": {
    "name": "ipython",
    "version": 3
   },
   "file_extension": ".py",
   "mimetype": "text/x-python",
   "name": "python",
   "nbconvert_exporter": "python",
   "pygments_lexer": "ipython3",
   "version": "3.10.0"
  }
 },
 "nbformat": 4,
 "nbformat_minor": 5
}
