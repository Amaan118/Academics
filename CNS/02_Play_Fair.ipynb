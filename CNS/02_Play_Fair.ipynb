{
 "cells": [
  {
   "cell_type": "code",
   "execution_count": 1,
   "id": "175e2e72",
   "metadata": {},
   "outputs": [],
   "source": [
    "def constructMatrix(key):\n",
    "    seenChars = dict()\n",
    "\n",
    "    matrix = list()\n",
    "    row = list()\n",
    "    for word in key:\n",
    "        if len(row) == 5:\n",
    "            matrix.append(row)\n",
    "            row = list()\n",
    "\n",
    "        if word not in seenChars:\n",
    "            row.append(word)\n",
    "        seenChars[word] = 1\n",
    "\n",
    "    for char in range(97, 123):\n",
    "        if chr(char) == \"j\":\n",
    "            continue\n",
    "        elif len(row) == 5:\n",
    "            matrix.append(row)\n",
    "            row = list()\n",
    "\n",
    "        if chr(char) not in seenChars:\n",
    "            row.append(chr(char))\n",
    "        seenChars[word] = 1\n",
    "\n",
    "    if len(row) == 5:\n",
    "        matrix.append(row)\n",
    "    return matrix"
   ]
  },
  {
   "cell_type": "code",
   "execution_count": 2,
   "id": "a5643e24",
   "metadata": {},
   "outputs": [],
   "source": [
    "def getIndex(matrix, char):\n",
    "    for i in range(5):\n",
    "        for j in range(5):\n",
    "            if matrix[i][j] == char:\n",
    "                return i, j"
   ]
  },
  {
   "cell_type": "code",
   "execution_count": 3,
   "id": "248102f5",
   "metadata": {},
   "outputs": [],
   "source": [
    "def checkConditions(matrix, firRow, firCol, secRow, secCol, encrypt=False, decrypt=False):\n",
    "    if encrypt:\n",
    "        if firCol == secCol:\n",
    "            return matrix[(firRow+1) % 5][firCol], matrix[(secRow+1) % 5][firCol]\n",
    "        elif firRow == secRow:\n",
    "            return matrix[firRow][(firCol+1) % 5], matrix[secRow][(secCol+1) % 5]\n",
    "        else:\n",
    "            return matrix[firRow][secCol], matrix[secRow][firCol]\n",
    "\n",
    "    elif decrypt:\n",
    "        if firCol == secCol:\n",
    "            return matrix[(firRow-1) % 5][firCol], matrix[(secRow-1) % 5][firCol]\n",
    "        elif firRow == secRow:\n",
    "            return matrix[firRow][(firCol-1) % 5], matrix[secRow][(secCol-1) % 5]\n",
    "        else:\n",
    "            return matrix[firRow][secCol], matrix[secRow][firCol]\n",
    "\n"
   ]
  },
  {
   "cell_type": "code",
   "execution_count": 4,
   "id": "1a27f493",
   "metadata": {},
   "outputs": [],
   "source": [
    "def playFairEncrypt(plainText, key, dummyChar):\n",
    "    matrix = constructMatrix(key)\n",
    "    encryptedStr = \"\"\n",
    "\n",
    "    i = 0\n",
    "    while i < len(plainText):\n",
    "        if i+1 == len(plainText):\n",
    "            firRow, firCol = getIndex(matrix, plainText[i])\n",
    "            secRow, secCol = getIndex(matrix, dummyChar)\n",
    "\n",
    "            encChar1, encChar2 = checkConditions(matrix,\n",
    "                                                 firRow, firCol, secRow, secCol, encrypt=True)\n",
    "            encryptedStr += encChar1 + encChar2\n",
    "\n",
    "            i += 2\n",
    "\n",
    "        elif plainText[i] != plainText[i+1]:\n",
    "            firRow, firCol = getIndex(matrix, plainText[i])\n",
    "            secRow, secCol = getIndex(matrix, plainText[i+1])\n",
    "\n",
    "            encChar1, encChar2 = checkConditions(matrix,\n",
    "                                                 firRow, firCol, secRow, secCol, encrypt=True)\n",
    "            encryptedStr += encChar1 + encChar2\n",
    "\n",
    "            i += 2\n",
    "\n",
    "        elif plainText[i] == plainText[i+1]:\n",
    "            firRow, firCol = getIndex(matrix, plainText[i])\n",
    "            secRow, secCol = getIndex(matrix, dummyChar)\n",
    "\n",
    "            encChar1, encChar2 = checkConditions(matrix,\n",
    "                                                 firRow, firCol, secRow, secCol, encrypt=True)\n",
    "            encryptedStr += encChar1 + encChar2\n",
    "\n",
    "            i += 1\n",
    "\n",
    "    return encryptedStr"
   ]
  },
  {
   "cell_type": "code",
   "execution_count": 5,
   "id": "f1bba498",
   "metadata": {},
   "outputs": [],
   "source": [
    "def playFairDecrypt(encryptedStr, key, dummyChar):\n",
    "    matrix = constructMatrix(key)\n",
    "    decryptedStr = \"\"\n",
    "\n",
    "    i = 0\n",
    "    while i < len(encryptedStr):\n",
    "        if i+1 == len(encryptedStr):\n",
    "            firRow, firCol = getIndex(matrix, encryptedStr[i])\n",
    "            secRow, secCol = getIndex(matrix, dummyChar)\n",
    "\n",
    "            decChar1, decChar2 = checkConditions(matrix,\n",
    "                                                 firRow, firCol, secRow, secCol, decrypt=True)\n",
    "            decryptedStr += decChar1 + decChar2\n",
    "\n",
    "            i += 2\n",
    "\n",
    "        elif encryptedStr[i] != encryptedStr[i+1]:\n",
    "            firRow, firCol = getIndex(matrix, encryptedStr[i])\n",
    "            secRow, secCol = getIndex(matrix, encryptedStr[i+1])\n",
    "\n",
    "            decChar1, decChar2 = checkConditions(matrix,\n",
    "                                                 firRow, firCol, secRow, secCol, decrypt=True)\n",
    "            decryptedStr += decChar1 + decChar2\n",
    "\n",
    "            i += 2\n",
    "\n",
    "        elif encryptedStr[i] == encryptedStr[i+1]:\n",
    "            firRow, firCol = getIndex(matrix, encryptedStr[i])\n",
    "            secRow, secCol = getIndex(matrix, dummyChar)\n",
    "\n",
    "            decChar1, decChar2 = checkConditions(matrix,\n",
    "                                                 firRow, firCol, secRow, secCol, decrypt=True)\n",
    "            decryptedStr += decChar1 + decChar2\n",
    "\n",
    "            i += 1\n",
    "\n",
    "    return decryptedStr.replace(dummyChar, \"\")\n"
   ]
  },
  {
   "cell_type": "code",
   "execution_count": null,
   "id": "5d3347fe",
   "metadata": {
    "scrolled": true
   },
   "outputs": [
    {
     "name": "stdout",
     "output_type": "stream",
     "text": [
      "Enter Plain Text : amaan khan\n"
     ]
    }
   ],
   "source": [
    "plainText = input(\"Enter Plain Text : \").lower().replace(\" \", \"\")\n",
    "key = input(\"Enter Key : \").lower().replace(\" \", \"\")\n",
    "dummy = input(\"Enter Dummy Character : \").lower().replace(\" \", \"\")\n",
    "\n",
    "encryptedStr = playFairEncrypt(plainText, key, dummy)\n",
    "print(f\"\\nEncrypted String is : {encryptedStr}\")\n",
    "\n",
    "decryptedStr = playFairDecrypt(encryptedStr, key, dummy)\n",
    "print(f\"Decrypted String is : {decryptedStr}\")"
   ]
  }
 ],
 "metadata": {
  "kernelspec": {
   "display_name": "Python 3 (ipykernel)",
   "language": "python",
   "name": "python3"
  },
  "language_info": {
   "codemirror_mode": {
    "name": "ipython",
    "version": 3
   },
   "file_extension": ".py",
   "mimetype": "text/x-python",
   "name": "python",
   "nbconvert_exporter": "python",
   "pygments_lexer": "ipython3",
   "version": "3.10.0"
  }
 },
 "nbformat": 4,
 "nbformat_minor": 5
}
