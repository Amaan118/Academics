{
 "cells": [
  {
   "cell_type": "code",
   "execution_count": 1,
   "id": "593d4624",
   "metadata": {},
   "outputs": [],
   "source": [
    "def encrypt(str, n):\n",
    "    encryptedStr = \"\"\n",
    "\n",
    "    for char in str:\n",
    "        global charArr\n",
    "        if char.isalpha():\n",
    "            encryptedStr += charArr[(ord(char)-ord('A')+n) % 26]\n",
    "        else:\n",
    "            encryptedStr += char\n",
    "\n",
    "    return encryptedStr"
   ]
  },
  {
   "cell_type": "code",
   "execution_count": 2,
   "id": "5057dc32",
   "metadata": {},
   "outputs": [],
   "source": [
    "def decrypt(str, n):\n",
    "    decryptedStr = \"\"\n",
    "\n",
    "    for char in str:\n",
    "        global charArr\n",
    "        if char.isalpha():\n",
    "            decryptedStr += charArr[(ord(char)-ord('A')-n) % 26]\n",
    "        else:\n",
    "            decryptedStr += char\n",
    "\n",
    "    return decryptedStr"
   ]
  },
  {
   "cell_type": "code",
   "execution_count": 3,
   "id": "88aa92ba",
   "metadata": {
    "scrolled": false
   },
   "outputs": [
    {
     "name": "stdout",
     "output_type": "stream",
     "text": [
      "Choose Option : 1. Encrypt 2. Decrypt \n",
      "Enter Choice : 1\n",
      "\n",
      "Enter String to Encrypt: Attack\n",
      "Enter Key Shift: 4\n",
      "Encrypted String : EXXEGO\n",
      "\n",
      "Choose Option : 1. Encrypt 2. Decrypt \n",
      "Enter Choice : 2\n",
      "\n",
      "Enter String to Decrypt: Exxego\n",
      "Enter Key Shift: 4\n",
      "Decrypted String : ATTACK\n",
      "\n",
      "Choose Option : 1. Encrypt 2. Decrypt \n",
      "Enter Choice : -1\n"
     ]
    }
   ],
   "source": [
    "charArr = [chr(i) for i in range(65, 91)]\n",
    "choice = 0\n",
    "\n",
    "while choice != -1:\n",
    "    choice = int(input(\"Choose Option : 1. Encrypt 2. Decrypt \\nEnter Choice : \"))\n",
    "\n",
    "    if choice == 1:\n",
    "        strInp = input(\"\\nEnter String to Encrypt: \").upper()\n",
    "        key = int(input(\"Enter Key Shift: \"))\n",
    "\n",
    "        print(f\"Encrypted String : {encrypt(strInp, key)}\\n\")\n",
    "    elif choice == 2:\n",
    "        strInp = input(\"\\nEnter String to Decrypt: \").upper()\n",
    "        key = int(input(\"Enter Key Shift: \"))\n",
    "\n",
    "        print(f\"Decrypted String : {decrypt(strInp, key)}\\n\")"
   ]
  },
  {
   "cell_type": "code",
   "execution_count": null,
   "id": "7bc64d56",
   "metadata": {},
   "outputs": [],
   "source": []
  }
 ],
 "metadata": {
  "kernelspec": {
   "display_name": "Python 3 (ipykernel)",
   "language": "python",
   "name": "python3"
  },
  "language_info": {
   "codemirror_mode": {
    "name": "ipython",
    "version": 3
   },
   "file_extension": ".py",
   "mimetype": "text/x-python",
   "name": "python",
   "nbconvert_exporter": "python",
   "pygments_lexer": "ipython3",
   "version": "3.10.0"
  }
 },
 "nbformat": 4,
 "nbformat_minor": 5
}
