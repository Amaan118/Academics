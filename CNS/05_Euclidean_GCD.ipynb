{
 "cells": [
  {
   "cell_type": "code",
   "execution_count": 1,
   "id": "8b050c1b",
   "metadata": {},
   "outputs": [],
   "source": [
    "def gcdBasic(num1, num2):\n",
    "    if num2 == 0:\n",
    "        return num1\n",
    "\n",
    "    print(f\"{num1} = {num2}*{num1//num2} + {num1%num2}\")\n",
    "    return gcdBasic(num2, num1 % num2)"
   ]
  },
  {
   "cell_type": "code",
   "execution_count": 2,
   "id": "2814d66b",
   "metadata": {},
   "outputs": [],
   "source": [
    "def gcdExtended(num1, num2):\n",
    "    if num1 == 0:\n",
    "        return num2, 0, 1\n",
    " \n",
    "    gcd, prev_num1, prev_num2 = gcdExtended(num2 % num1, num1)\n",
    "    s = prev_num2 - (num2//num1) * prev_num1\n",
    "    t = prev_num1\n",
    "\n",
    "    return gcd, s, t"
   ]
  },
  {
   "cell_type": "code",
   "execution_count": 9,
   "id": "83c908c5",
   "metadata": {},
   "outputs": [
    {
     "name": "stdout",
     "output_type": "stream",
     "text": [
      "Enter Number 1 to Find GCD : 867\n",
      "Enter Number 2 to Find GCD : 256\n",
      "\n",
      "The Equation : \n",
      "867 = 256*3 + 99\n",
      "256 = 99*2 + 58\n",
      "99 = 58*1 + 41\n",
      "58 = 41*1 + 17\n",
      "41 = 17*2 + 7\n",
      "17 = 7*2 + 3\n",
      "7 = 3*2 + 1\n",
      "3 = 1*3 + 0\n",
      "\n",
      "GCD of 867 and 256 is : 1\n",
      "Value of S : 75 \n",
      "Value of T : -254\n",
      "\n",
      "The Equation for GCD becomes : 1 = 867*75 + 256*-254\n"
     ]
    }
   ],
   "source": [
    "num1 = int(input(\"Enter Number 1 to Find GCD : \"))\n",
    "num2 = int(input(\"Enter Number 2 to Find GCD : \"))\n",
    "\n",
    "print(\"\\nThe Equation : \")\n",
    "gcdInp = gcdBasic(max(num1, num2), min(num1, num2))\n",
    "\n",
    "print(f\"\\nGCD of {num1} and {num2} is : {gcdInp}\")\n",
    "\n",
    "gcd, s, t = gcdExtended(num1, num2)\n",
    "print(f\"Value of S : {s} \\nValue of T : {t}\")\n",
    "\n",
    "print(f\"\\nThe Equation for GCD becomes : {gcd} = {num1}*{s} + {num2}*{t}\")"
   ]
  }
 ],
 "metadata": {
  "kernelspec": {
   "display_name": "Python 3 (ipykernel)",
   "language": "python",
   "name": "python3"
  },
  "language_info": {
   "codemirror_mode": {
    "name": "ipython",
    "version": 3
   },
   "file_extension": ".py",
   "mimetype": "text/x-python",
   "name": "python",
   "nbconvert_exporter": "python",
   "pygments_lexer": "ipython3",
   "version": "3.10.0"
  }
 },
 "nbformat": 4,
 "nbformat_minor": 5
}
