{
 "cells": [
  {
   "cell_type": "code",
   "execution_count": 1,
   "id": "6376390c",
   "metadata": {},
   "outputs": [],
   "source": [
    "def vigenereCipherEncrypt(plainText, key):\n",
    "    plainTextArr = list()\n",
    "    keyArr = list()\n",
    "\n",
    "    plainText = plainText.replace(\" \", \"\")\n",
    "    ind = 0\n",
    "    while len(key) != len(plainText):\n",
    "        key += key[ind]\n",
    "        ind += 1\n",
    "\n",
    "    for ind in range(len(plainText)):\n",
    "        if plainText[ind].isalpha():\n",
    "            plainTextArr.append(ord(plainText[ind])-97)\n",
    "\n",
    "    for ind in range(len(key)):\n",
    "        if key[ind].isalpha():\n",
    "            keyArr.append(ord(key[ind])-97)\n",
    "\n",
    "    encryptedText = \"\"\n",
    "    for ind in range(len(keyArr)):\n",
    "        encryptedText += chr(97 + (plainTextArr[ind] + keyArr[ind]) % 26)\n",
    "\n",
    "    return encryptedText"
   ]
  },
  {
   "cell_type": "code",
   "execution_count": 2,
   "id": "fb6dd9a3",
   "metadata": {},
   "outputs": [],
   "source": [
    "def vigenereCipherDecrypt(encryptedText, key):\n",
    "    encryptedText = encryptedText.replace(\" \", \"\")\n",
    "    ind = 0\n",
    "    while len(key) != len(encryptedText):\n",
    "        key += key[ind]\n",
    "        ind += 1\n",
    "\n",
    "    decryptedText = \"\"\n",
    "    for ind in range(len(plainText)):\n",
    "        if ord(encryptedText[ind]) >= ord(key[ind]):\n",
    "            decryptedText += chr(97 +\n",
    "                                 abs((ord(encryptedText[ind]) - ord(key[ind]))))\n",
    "        else:\n",
    "            decryptedText += chr(97 +\n",
    "                                 abs((26+ord(encryptedText[ind]) - ord(key[ind]))))\n",
    "\n",
    "    return decryptedText"
   ]
  },
  {
   "cell_type": "code",
   "execution_count": null,
   "id": "8c68e4bd",
   "metadata": {},
   "outputs": [
    {
     "name": "stdout",
     "output_type": "stream",
     "text": [
      "Enter Plain Text : amaan khan\n",
      "Enter Key : deceptive\n",
      "\n",
      "Choose Option: 1. Encrypt 2.Decrypt \n",
      "Enter Choice : 1\n",
      "\n",
      "Encrypted Text : dqcecdpvr\n",
      "\n",
      "Enter Plain Text : dqcecdpvr\n",
      "Enter Key : deceptive\n",
      "\n",
      "Choose Option: 1. Encrypt 2.Decrypt \n",
      "Enter Choice : 2\n",
      "\n",
      "Decrypted Text : amaankhan\n",
      "\n",
      "Enter Plain Text : save yourself\n",
      "Enter Key : deceptive\n",
      "\n",
      "Choose Option: 1. Encrypt 2.Decrypt \n",
      "Enter Choice : 1\n",
      "\n",
      "Encrypted Text : vexinhcmwhph\n",
      "\n",
      "Enter Plain Text : vexinhcmwhph\n",
      "Enter Key : deceptive\n",
      "\n",
      "Choose Option: 1. Encrypt 2.Decrypt \n",
      "Enter Choice : 2\n",
      "\n",
      "Decrypted Text : saveyourself\n",
      "\n"
     ]
    }
   ],
   "source": [
    "choice = 0\n",
    "while choice != -1:\n",
    "    plainText = input(\"Enter Plain Text : \").lower()\n",
    "    key = input(\"Enter Key : \").lower()\n",
    "    \n",
    "    choice = int(input(\"\\nChoose Option: 1. Encrypt 2.Decrypt \\nEnter Choice : \"))\n",
    "    if choice == 1:\n",
    "        encryptedText = vigenereCipherEncrypt(plainText, key)\n",
    "        print(f\"\\nEncrypted Text : {encryptedText}\\n\")\n",
    "    elif choice == 2:\n",
    "        decryptedText = vigenereCipherDecrypt(plainText, key)\n",
    "        print(f\"\\nDecrypted Text : {decryptedText}\\n\")"
   ]
  }
 ],
 "metadata": {
  "kernelspec": {
   "display_name": "Python 3 (ipykernel)",
   "language": "python",
   "name": "python3"
  },
  "language_info": {
   "codemirror_mode": {
    "name": "ipython",
    "version": 3
   },
   "file_extension": ".py",
   "mimetype": "text/x-python",
   "name": "python",
   "nbconvert_exporter": "python",
   "pygments_lexer": "ipython3",
   "version": "3.10.0"
  }
 },
 "nbformat": 4,
 "nbformat_minor": 5
}
