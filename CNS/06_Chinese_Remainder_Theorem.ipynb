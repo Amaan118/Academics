{
 "cells": [
  {
   "cell_type": "code",
   "execution_count": 1,
   "id": "ae94ec54",
   "metadata": {},
   "outputs": [],
   "source": [
    "def gcdExtended(num1, num2):\n",
    "    if num1 == 0:\n",
    "        return num2, 0, 1\n",
    " \n",
    "    gcd, prev_num1, prev_num2 = gcdExtended(num2 % num1, num1)\n",
    "    s = prev_num2 - (num2//num1) * prev_num1\n",
    "    t = prev_num1\n",
    "\n",
    "    return gcd, s, t"
   ]
  },
  {
   "cell_type": "code",
   "execution_count": 2,
   "id": "d464c9c1",
   "metadata": {},
   "outputs": [],
   "source": [
    "def get_p_values(a, m):\n",
    "    p = [0]*len(a)\n",
    "    total_mul = get_total_mul(m)\n",
    "    \n",
    "    for i in range(len(m)):\n",
    "        p[i] = total_mul // m[i]\n",
    "    \n",
    "    print(\"\\nP Values are : \", p)\n",
    "    return p"
   ]
  },
  {
   "cell_type": "code",
   "execution_count": 3,
   "id": "0ebe9f89",
   "metadata": {},
   "outputs": [],
   "source": [
    "def get_total_mul(m):\n",
    "    total_mul = 1\n",
    "    \n",
    "    for i in m:\n",
    "        total_mul *= i\n",
    "    \n",
    "    return total_mul"
   ]
  },
  {
   "cell_type": "code",
   "execution_count": 4,
   "id": "fe224198",
   "metadata": {},
   "outputs": [],
   "source": [
    "def get_chinese_rem(a,p,s,m):\n",
    "    total_mul = get_total_mul(m)\n",
    "    total_sum = 0\n",
    "    \n",
    "    for ind in range(len(a)):\n",
    "        total_sum += a[ind]*p[ind]*s[ind]\n",
    "    \n",
    "    print(f\"The Equation becomes : {total_sum} mod {total_mul}\")\n",
    "    return total_sum % total_mul"
   ]
  },
  {
   "cell_type": "code",
   "execution_count": 5,
   "id": "746c3652",
   "metadata": {},
   "outputs": [],
   "source": [
    "def chinese_remainder(a, m):\n",
    "    p = get_p_values(a, m)\n",
    "    s = [0] * len(m)\n",
    "    \n",
    "    for ind in range(len(m)):\n",
    "        s[ind] = gcdExtended(p[ind], m[ind])[1]\n",
    "    \n",
    "    print(\"S values are : \", s)\n",
    "    remainder = get_chinese_rem(a,p,s,m)\n",
    "    return remainder"
   ]
  },
  {
   "cell_type": "code",
   "execution_count": 7,
   "id": "15ea1200",
   "metadata": {},
   "outputs": [
    {
     "name": "stdout",
     "output_type": "stream",
     "text": [
      "Enter No of Equations : 3\n",
      "\n",
      "Enter 3 a's seperated by space : \n",
      "Enter Values of a : 3 1 6\n",
      "\n",
      "Enter 3 m's seperated by space : \n",
      "Enter Values of m : 5 7 8\n",
      "\n",
      "P Values are :  [56, 40, 35]\n",
      "S values are :  [1, 3, 3]\n",
      "The Equation becomes : 918 mod 280\n",
      "\n",
      "The Value of X is : 78\n"
     ]
    }
   ],
   "source": [
    "no_of_equ = int(input(\"Enter No of Equations : \"))\n",
    "\n",
    "print(f\"\\nEnter {no_of_equ} a's seperated by space : \")\n",
    "a = list(map(int, input(\"Enter Values of a : \").split()))\n",
    "\n",
    "print(f\"\\nEnter {no_of_equ} m's seperated by space : \")\n",
    "m = list(map(int, input(\"Enter Values of m : \").split()))\n",
    "\n",
    "remainder = chinese_remainder(a, m)\n",
    "\n",
    "print(f\"\\nThe Value of X is : {remainder}\")"
   ]
  }
 ],
 "metadata": {
  "kernelspec": {
   "display_name": "Python 3 (ipykernel)",
   "language": "python",
   "name": "python3"
  },
  "language_info": {
   "codemirror_mode": {
    "name": "ipython",
    "version": 3
   },
   "file_extension": ".py",
   "mimetype": "text/x-python",
   "name": "python",
   "nbconvert_exporter": "python",
   "pygments_lexer": "ipython3",
   "version": "3.10.0"
  }
 },
 "nbformat": 4,
 "nbformat_minor": 5
}
