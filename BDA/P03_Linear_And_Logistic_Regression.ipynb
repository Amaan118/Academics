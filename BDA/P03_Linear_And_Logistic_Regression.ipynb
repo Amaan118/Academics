{
 "cells": [
  {
   "cell_type": "code",
   "execution_count": 1,
   "id": "e0953689",
   "metadata": {},
   "outputs": [],
   "source": [
    "from matplotlib import pyplot as plt\n",
    "from scipy import stats\n",
    "%matplotlib inline"
   ]
  },
  {
   "cell_type": "code",
   "execution_count": 2,
   "id": "ea8b3991",
   "metadata": {},
   "outputs": [],
   "source": [
    "def linear_regression(hours, marks):\n",
    "    global m, c\n",
    "    m, c, r, p, std_err = stats.linregress(hours, marks)\n",
    "    answer = list(map(findPos, hours))\n",
    "    \n",
    "    print(\"Cofficient of Corelation is : \", r)\n",
    "    return answer"
   ]
  },
  {
   "cell_type": "code",
   "execution_count": 3,
   "id": "9afd4f0a",
   "metadata": {},
   "outputs": [],
   "source": [
    "def predict_marks(hours):\n",
    "    return min(int(findPos(hours)), 100)"
   ]
  },
  {
   "cell_type": "code",
   "execution_count": 4,
   "id": "4180db12",
   "metadata": {},
   "outputs": [],
   "source": [
    "def findPos(x):\n",
    "    global m, c\n",
    "    return m*x+c"
   ]
  },
  {
   "cell_type": "code",
   "execution_count": 5,
   "id": "ec9e1112",
   "metadata": {},
   "outputs": [
    {
     "name": "stdout",
     "output_type": "stream",
     "text": [
      "Cofficient of Corelation is :  0.8562428770525764\n"
     ]
    },
    {
     "data": {
      "image/png": "[encoded data removed]",
      "text/plain": [
       "<Figure size 432x288 with 1 Axes>"
      ]
     },
     "metadata": {
      "needs_background": "light"
     },
     "output_type": "display_data"
    },
    {
     "name": "stdout",
     "output_type": "stream",
     "text": [
      "\n",
      "Enter Hours : 5\n",
      "Predicted Marks by Model :  71\n"
     ]
    }
   ],
   "source": [
    "hours = [1,2,3,4,5,6,7]\n",
    "marks = [50,43,52,62,76,95,75]\n",
    "\n",
    "answer = linear_regression(hours=hours, marks=marks)\n",
    "\n",
    "plt.scatter(hours, marks)\n",
    "plt.plot(hours, answer)\n",
    "plt.show()\n",
    "\n",
    "inp_hour = int(input(\"\\nEnter Hours : \"))\n",
    "marks_obtained = predict_marks(inp_hour)\n",
    "print(\"Predicted Marks by Model : \", marks_obtained)"
   ]
  }
 ],
 "metadata": {
  "kernelspec": {
   "display_name": "Python 3 (ipykernel)",
   "language": "python",
   "name": "python3"
  },
  "language_info": {
   "codemirror_mode": {
    "name": "ipython",
    "version": 3
   },
   "file_extension": ".py",
   "mimetype": "text/x-python",
   "name": "python",
   "nbconvert_exporter": "python",
   "pygments_lexer": "ipython3",
   "version": "3.10.0"
  }
 },
 "nbformat": 4,
 "nbformat_minor": 5
}
